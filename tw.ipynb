import yfinance as yf
import pandas as pd
from datetime import datetime, timedelta

def fetch_taiwan_stock_index(start_date=None, end_date=None):
    """
    抓取台股加權指數 (TAIEX) 的每日數據
    參數:
        start_date: 開始日期 (格式: 'YYYY-MM-DD'，預設為當前日期前30天)
        end_date: 結束日期 (格式: 'YYYY-MM-DD'，預設為當前日期)
    回傳:
        pandas DataFrame 包含日期、開盤、最高、最低、收盤、成交量等數據
    """
    # 設定預設日期
    if end_date is None:
        end_date = datetime.today().strftime('%Y-%m-%d')
    if start_date is None:
        start_date = (datetime.today() - timedelta(days=30)).strftime('%Y-%m-%d')

    # 台股加權指數的代碼為 ^TWII
    taiwan_index = yf.Ticker("^TWII")

    # 抓取歷史數據
    data = taiwan_index.history(start=start_date, end=end_date, interval="1d")

    # 整理數據，只保留需要的欄位
    data = data[['Open', 'High', 'Low', 'Close', 'Volume']]
    
    # 將日期格式化為 YYYY-MM-DD
    data.index = data.index.strftime('%Y-%m-%d')
    
    return data

def save_to_csv(data, filename="taiwan_index_daily.csv"):
    """
    將數據儲存為 CSV 檔案
    """
    data.to_csv(filename, encoding='utf-8-sig')
    print(f"數據已儲存至 {filename}")

# 主程式
if __name__ == "__main__":
    try:
        # 抓取最近 30 天的台股指數數據
        df = fetch_taiwan_index()
        
        # 顯示數據
        print("台股加權指數每日數據:")
        print(df)
        
        # 儲存為 CSV
        save_to_csv(df)
        
    except Exception as e:
        print(f"發生錯誤: {e}")