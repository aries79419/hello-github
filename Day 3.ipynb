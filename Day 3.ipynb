{
 "cells": [
  {
   "cell_type": "code",
   "execution_count": 47,
   "id": "4be0f826",
   "metadata": {
    "scrolled": false
   },
   "outputs": [
    {
     "name": "stdout",
     "output_type": "stream",
     "text": [
      "x + y = 13\n",
      "x - y = 7\n",
      "x * y = 30\n",
      "x / y = 3.3333333333333335\n",
      "x // y = 3\n",
      "x % y = 1\n",
      "x ** y = 1000\n"
     ]
    }
   ],
   "source": [
    "x = 10\n",
    "y = 3\n",
    "\n",
    "print(\"x + y =\",x + y)   # 加 輸出：13\n",
    "print(\"x - y =\",x - y)   # 減 輸出：7\n",
    "print(\"x * y =\",x * y)   # 乘 輸出：30\n",
    "print(\"x / y =\",x / y)   # 除 輸出：3.3333...\n",
    "print(\"x // y =\",x // y)  # 取整數 輸出：3\n",
    "print(\"x % y =\",x % y)   # 取餘數 輸出：1\n",
    "print(\"x ** y =\",x ** y)  # 次方 輸出：1000"
   ]
  },
  {
   "cell_type": "code",
   "execution_count": 2,
   "id": "b3b7f65f",
   "metadata": {
    "scrolled": true
   },
   "outputs": [
    {
     "name": "stdout",
     "output_type": "stream",
     "text": [
      "Hello World!\n",
      "HelloHelloHello\n",
      "e\n"
     ]
    }
   ],
   "source": [
    "str1 = \"Hello\"\n",
    "str2 = \" World!\"\n",
    "str3 = str1 + str2\n",
    "\n",
    "\"\"\"連接\"\"\"\n",
    "print(str3)  # 輸出：Hello World!\n",
    "\n",
    "\"\"\"重複\"\"\"\n",
    "print(str1 * 3)  # 輸出：HelloHelloHello\n",
    "\n",
    "\"\"\"索引\"\"\"\n",
    "print(str1[1])  # 輸出：e"
   ]
  },
  {
   "cell_type": "code",
   "execution_count": 4,
   "id": "4424758b",
   "metadata": {},
   "outputs": [
    {
     "name": "stdout",
     "output_type": "stream",
     "text": [
      "ell\n",
      "Hell\n",
      "llo\n",
      "Hello\n",
      "Hlo\n",
      "olleH\n"
     ]
    }
   ],
   "source": [
    "\"\"\"切片\"\"\"\n",
    "print(str1[1:4])  # 輸出：ell\n",
    "print(str1[:4])   # 輸出：Hell\n",
    "print(str1[2:])   # 輸出：llo\n",
    "print(str1[:])    # 輸出：Hello\n",
    "print(str1[:5:2]) # 輸出：Hlo\n",
    "print(str1[::-1]) # 輸出：Hlo"
   ]
  },
  {
   "cell_type": "code",
   "execution_count": 85,
   "id": "207477ac",
   "metadata": {},
   "outputs": [
    {
     "name": "stdout",
     "output_type": "stream",
     "text": [
      "12\n",
      "HELLO WORLD!\n",
      "hello world!\n",
      "Hello Python!\n"
     ]
    }
   ],
   "source": [
    "# 補充\n",
    "\"\"\"長度\"\"\"\n",
    "print(len(str3))  # 輸出：12\n",
    "\n",
    "\"\"\"大小寫\"\"\"\n",
    "print(str3.upper())  # 輸出：HELLO WORLD!\n",
    "print(str3.lower())  # 輸出：hello world!\n",
    "\n",
    "\"\"\"取代\"\"\"\n",
    "print(str3.replace(\"World\",\"Python\"))  # 輸出：Hello Python!"
   ]
  },
  {
   "cell_type": "code",
   "execution_count": 57,
   "id": "1dc73ad3",
   "metadata": {},
   "outputs": [
    {
     "name": "stdout",
     "output_type": "stream",
     "text": [
      "請輸入第一個數字：123\n",
      "請輸入第二個數字：456\n",
      "兩個數字的和是： 579\n",
      "請輸入你的名字：Dale\n",
      "你好, Dale!\n"
     ]
    }
   ],
   "source": [
    "# 獲取用戶輸入並轉換為整數\n",
    "num1 = int(input(\"請輸入第一個數字：\"))\n",
    "num2 = int(input(\"請輸入第二個數字：\"))\n",
    "print(\"兩個數字的和是：\", num1 + num2)\n",
    "\n",
    "# 獲取用戶輸入並進行字串操作\n",
    "name = input(\"請輸入你的名字：\")\n",
    "print(\"你好, \" + name + \"!\")"
   ]
  },
  {
   "cell_type": "code",
   "execution_count": 73,
   "id": "ef99c524",
   "metadata": {},
   "outputs": [
    {
     "name": "stdout",
     "output_type": "stream",
     "text": [
      "Please enter a number:123\n",
      "Please enter a number:123\n",
      "<class 'int'>\n",
      "<class 'str'>\n"
     ]
    }
   ],
   "source": [
    "num_int = int(input(\"Please enter a number:\"))\n",
    "num_str = input(\"Please enter a number:\")\n",
    "\n",
    "print(type(num_int))\n",
    "print(type(num_str))"
   ]
  }
 ],
 "metadata": {
  "kernelspec": {
   "display_name": "Python 3 (ipykernel)",
   "language": "python",
   "name": "python3"
  },
  "language_info": {
   "codemirror_mode": {
    "name": "ipython",
    "version": 3
   },
   "file_extension": ".py",
   "mimetype": "text/x-python",
   "name": "python",
   "nbconvert_exporter": "python",
   "pygments_lexer": "ipython3",
   "version": "3.11.5"
  }
 },
 "nbformat": 4,
 "nbformat_minor": 5
}
